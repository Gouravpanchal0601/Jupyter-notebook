{
 "cells": [
  {
   "cell_type": "code",
   "execution_count": 16,
   "id": "f395012b-1275-437f-8ba1-af62fb0df03a",
   "metadata": {},
   "outputs": [
    {
     "data": {
      "text/plain": [
       "<sqlite3.Connection at 0x1dcc37c6c50>"
      ]
     },
     "execution_count": 16,
     "metadata": {},
     "output_type": "execute_result"
    }
   ],
   "source": []
  },
  {
   "cell_type": "code",
   "execution_count": 17,
   "id": "abe138b6-9d8f-42c6-80ac-d59e67133c05",
   "metadata": {},
   "outputs": [
    {
     "data": {
      "text/plain": [
       "<sqlite3.Cursor at 0x1dcc3612dc0>"
      ]
     },
     "execution_count": 17,
     "metadata": {},
     "output_type": "execute_result"
    }
   ],
   "source": []
  },
  {
   "cell_type": "code",
   "execution_count": 18,
   "id": "3334071b-d0f0-48ca-82d1-19529e9401e1",
   "metadata": {},
   "outputs": [
    {
     "data": {
      "text/plain": [
       "<sqlite3.Cursor at 0x1dcc3612dc0>"
      ]
     },
     "execution_count": 18,
     "metadata": {},
     "output_type": "execute_result"
    }
   ],
   "source": [
    "sql2 = 'create table employee2(eid int primary key, name text, department text, salary int)'\n",
    "cur2.execute(sql2)"
   ]
  },
  {
   "cell_type": "code",
   "execution_count": 19,
   "id": "89b1adae-b403-42d9-93e9-77111bd364f9",
   "metadata": {},
   "outputs": [
    {
     "data": {
      "text/plain": [
       "<sqlite3.Cursor at 0x1dcc3612dc0>"
      ]
     },
     "execution_count": 19,
     "metadata": {},
     "output_type": "execute_result"
    }
   ],
   "source": [
    "cur2.execute('insert into employee2 values(101, \"Gourav\", \"IT\", 40000)')"
   ]
  },
  {
   "cell_type": "code",
   "execution_count": 20,
   "id": "5b36638d-e318-431f-a186-18b618487ebf",
   "metadata": {},
   "outputs": [],
   "source": [
    "df.commit()"
   ]
  },
  {
   "cell_type": "code",
   "execution_count": null,
   "id": "78d8b526-21a5-4148-8e81-cdb9cceffe1e",
   "metadata": {},
   "outputs": [],
   "source": []
  }
 ],
 "metadata": {
  "kernelspec": {
   "display_name": "Python 3 (ipykernel)",
   "language": "python",
   "name": "python3"
  },
  "language_info": {
   "codemirror_mode": {
    "name": "ipython",
    "version": 3
   },
   "file_extension": ".py",
   "mimetype": "text/x-python",
   "name": "python",
   "nbconvert_exporter": "python",
   "pygments_lexer": "ipython3",
   "version": "3.12.0"
  }
 },
 "nbformat": 4,
 "nbformat_minor": 5
}
