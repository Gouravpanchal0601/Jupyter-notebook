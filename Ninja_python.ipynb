{
 "cells": [
  {
   "cell_type": "code",
   "execution_count": 106,
   "id": "b987ec2c-2314-4e93-9b7b-152d23dc3387",
   "metadata": {},
   "outputs": [],
   "source": [
    "class student:\n",
    "    __totalstudents = 20\n",
    "    classteacher = 'golu'\n",
    "\n",
    "    @classmethod\n",
    "    def gettotalstudents(cls):\n",
    "        return student.__totalstudents\n",
    "        \n",
    "    def __init__(self,name,age,rn=101):\n",
    "        self.__name = name\n",
    "        self.age = age\n",
    "        self.rn = rn\n",
    "\n",
    "    def getname(self):\n",
    "        return (self.__name)\n",
    "\n",
    "    def setname(self,name,pass1):\n",
    "        if pass1 != 123:\n",
    "            return ('priovide password')\n",
    "        self.__name = name\n",
    "        \n",
    "    #instance method\n",
    "    def print(self):\n",
    "        print('Hello')\n",
    "    \n",
    "    def print1(self, input):\n",
    "        print(input)\n",
    "\n",
    "    def print2(self):\n",
    "        name = 'ABC'\n",
    "        print(name)\n",
    "        print(self.name)\n",
    "    \n",
    "    def addname(self,name):\n",
    "        self.name = name\n",
    "\n",
    "    def test(self):\n",
    "        print(student.totalstudents)\n",
    "        student.test_class=90\n",
    "    \n",
    "s1 = student('Mohit',20,101)\n",
    "s2 = student('Jain',21,102)"
   ]
  },
  {
   "cell_type": "code",
   "execution_count": 110,
   "id": "e42cfd25-bf25-4ee2-bfa0-40301e70f4fc",
   "metadata": {},
   "outputs": [
    {
     "name": "stdout",
     "output_type": "stream",
     "text": [
      "20\n"
     ]
    }
   ],
   "source": [
    "# print(student.gettotalstudents(s1))\n",
    "print(student.gettotalstudents())"
   ]
  },
  {
   "cell_type": "code",
   "execution_count": 96,
   "id": "626ca58d-2fce-4ab5-af58-687e55d14d98",
   "metadata": {},
   "outputs": [
    {
     "name": "stdout",
     "output_type": "stream",
     "text": [
      "Mohit 20 101\n",
      "Lala 20 101\n"
     ]
    }
   ],
   "source": [
    "print(s1.getname(),s1.age, s1.rn)\n",
    "s1.setname('Lala',123)\n",
    "print(s1.getname(),s1.age, s1.rn)"
   ]
  },
  {
   "cell_type": "code",
   "execution_count": 98,
   "id": "efc94cf2-673e-4524-a511-eb4d5a1f94d8",
   "metadata": {},
   "outputs": [
    {
     "name": "stdout",
     "output_type": "stream",
     "text": [
      "Jain\n"
     ]
    }
   ],
   "source": [
    "print(s2._student__name)"
   ]
  },
  {
   "cell_type": "code",
   "execution_count": 47,
   "id": "912ad397-b5b4-4186-bb6e-081ab545d0bf",
   "metadata": {},
   "outputs": [
    {
     "name": "stdout",
     "output_type": "stream",
     "text": [
      "20\n"
     ]
    },
    {
     "data": {
      "text/plain": [
       "mappingproxy({'__module__': '__main__',\n",
       "              'totalstudents': 20,\n",
       "              'classteacher': 'golu',\n",
       "              'print': <function __main__.student.print(self)>,\n",
       "              'print1': <function __main__.student.print1(self, input)>,\n",
       "              'print2': <function __main__.student.print2(self)>,\n",
       "              'addname': <function __main__.student.addname(self, name)>,\n",
       "              'test': <function __main__.student.test(self)>,\n",
       "              '__dict__': <attribute '__dict__' of 'student' objects>,\n",
       "              '__weakref__': <attribute '__weakref__' of 'student' objects>,\n",
       "              '__doc__': None,\n",
       "              'test_class': 90})"
      ]
     },
     "execution_count": 47,
     "metadata": {},
     "output_type": "execute_result"
    }
   ],
   "source": [
    "s1.test()\n",
    "student.__dict__"
   ]
  },
  {
   "cell_type": "code",
   "execution_count": 43,
   "id": "c69c04a4-ed6c-490f-98c6-f13f44ed4326",
   "metadata": {},
   "outputs": [],
   "source": [
    "sname = 'mohit'"
   ]
  },
  {
   "cell_type": "code",
   "execution_count": 34,
   "id": "8f3ce9ab-00a0-4bdf-a321-2b65ad33552b",
   "metadata": {},
   "outputs": [
    {
     "name": "stdout",
     "output_type": "stream",
     "text": [
      "ABC\n",
      "mohit\n"
     ]
    }
   ],
   "source": [
    "s1.print2()"
   ]
  },
  {
   "cell_type": "code",
   "execution_count": 17,
   "id": "bed4331e-c35c-49c9-9295-3146c805efa2",
   "metadata": {},
   "outputs": [
    {
     "name": "stdout",
     "output_type": "stream",
     "text": [
      "Hello\n",
      "Gourav\n"
     ]
    }
   ],
   "source": [
    "s1.print()\n",
    "s1.print1(\"Gourav\")"
   ]
  },
  {
   "cell_type": "code",
   "execution_count": 19,
   "id": "e5569e16-5de9-498c-91bb-8a8a9a12824c",
   "metadata": {},
   "outputs": [
    {
     "name": "stdout",
     "output_type": "stream",
     "text": [
      "Hello\n"
     ]
    }
   ],
   "source": [
    "student.print(s1)"
   ]
  },
  {
   "cell_type": "code",
   "execution_count": null,
   "id": "97e9cc8b-c9f2-4ad8-a6c7-d838f0f540cf",
   "metadata": {},
   "outputs": [],
   "source": [
    "s.addname('Gourav')"
   ]
  }
 ],
 "metadata": {
  "kernelspec": {
   "display_name": "Python 3 (ipykernel)",
   "language": "python",
   "name": "python3"
  },
  "language_info": {
   "codemirror_mode": {
    "name": "ipython",
    "version": 3
   },
   "file_extension": ".py",
   "mimetype": "text/x-python",
   "name": "python",
   "nbconvert_exporter": "python",
   "pygments_lexer": "ipython3",
   "version": "3.12.0"
  }
 },
 "nbformat": 4,
 "nbformat_minor": 5
}
