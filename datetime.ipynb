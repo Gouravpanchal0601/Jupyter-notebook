{
 "cells": [
  {
   "cell_type": "code",
   "execution_count": 2,
   "id": "f9443d33",
   "metadata": {},
   "outputs": [],
   "source": [
    "import pandas as pd\n",
    "import numpy as np"
   ]
  },
  {
   "cell_type": "code",
   "execution_count": 6,
   "id": "5ba41bbe",
   "metadata": {
    "scrolled": true
   },
   "outputs": [
    {
     "name": "stdout",
     "output_type": "stream",
     "text": [
      "                  datetime  season  holiday  workingday  weather   temp  \\\n",
      "0       2011-01-01 0:00:00       1        0           0        1   9.84   \n",
      "1       2011-01-01 1:00:00       1        0           0        1   9.02   \n",
      "2       2011-01-01 2:00:00       1        0           0        1   9.02   \n",
      "3       2011-01-01 3:00:00       1        0           0        1   9.84   \n",
      "4       2011-01-01 4:00:00       1        0           0        1   9.84   \n",
      "...                    ...     ...      ...         ...      ...    ...   \n",
      "12975  2012-06-29 20:00:00       3        0           1        1  37.72   \n",
      "12976  2012-06-29 21:00:00       3        0           1        2  35.26   \n",
      "12977  2012-06-29 22:00:00       3        0           1        3  33.62   \n",
      "12978  2012-06-29 23:00:00       3        0           1        3  33.62   \n",
      "12979   2012-06-30 0:00:00       3        0           0        3  26.24   \n",
      "\n",
      "        atemp  humidity  windspeed  casual  registered  count  \n",
      "0      14.395      81.0     0.0000       3          13     16  \n",
      "1      13.635      80.0     0.0000       8          32     40  \n",
      "2      13.635      80.0     0.0000       5          27     32  \n",
      "3      14.395      75.0     0.0000       3          10     13  \n",
      "4      14.395      75.0     0.0000       0           1      1  \n",
      "...       ...       ...        ...     ...         ...    ...  \n",
      "12975  44.695      42.0    16.9979      53         255    308  \n",
      "12976  41.665      53.0    12.9980      41         195    236  \n",
      "12977  41.665      63.0    12.9980      34         129    163  \n",
      "12978  41.665      63.0    12.9980       6          42     48  \n",
      "12979  28.790      89.0    11.0014       4          65     69  \n",
      "\n",
      "[12980 rows x 12 columns]\n",
      "                 datetime  season  holiday  workingday  weather   temp  \\\n",
      "0      2012-06-30 1:00:00       3        0           0        3  26.24   \n",
      "1      2012-06-30 2:00:00       3        0           0        2  26.24   \n",
      "2      2012-06-30 3:00:00       3        0           0        2  26.24   \n",
      "3      2012-06-30 4:00:00       3        0           0        2  25.42   \n",
      "4      2012-06-30 5:00:00       3        0           0        1  26.24   \n",
      "...                   ...     ...      ...         ...      ...    ...   \n",
      "4394  2012-12-31 19:00:00       1        0           1        2  10.66   \n",
      "4395  2012-12-31 20:00:00       1        0           1        2  10.66   \n",
      "4396  2012-12-31 21:00:00       1        0           1        1  10.66   \n",
      "4397  2012-12-31 22:00:00       1        0           1        1  10.66   \n",
      "4398  2012-12-31 23:00:00       1        0           1        1  10.66   \n",
      "\n",
      "       atemp  humidity  windspeed  casual  registered  \n",
      "0     28.790      89.0    15.0013       3          55  \n",
      "1     28.790      89.0     0.0000       7          54  \n",
      "2     28.790      89.0     0.0000       3          20  \n",
      "3     27.275      94.0     0.0000       3          15  \n",
      "4     28.790      89.0    11.0014       3           7  \n",
      "...      ...       ...        ...     ...         ...  \n",
      "4394  12.880      60.0    11.0014      11         108  \n",
      "4395  12.880      60.0    11.0014       8          81  \n",
      "4396  12.880      60.0    11.0014       7          83  \n",
      "4397  13.635      56.0     8.9981      13          48  \n",
      "4398  13.635      65.0     8.9981      12          37  \n",
      "\n",
      "[4399 rows x 11 columns]\n"
     ]
    }
   ],
   "source": [
    "train = pd.read_csv(\"train.csv\")\n",
    "test = pd.read_csv(\"test.csv\")\n",
    "print(train)\n",
    "print(test)"
   ]
  },
  {
   "cell_type": "code",
   "execution_count": 7,
   "id": "3bb5652d",
   "metadata": {},
   "outputs": [
    {
     "data": {
      "text/plain": [
       "((12980, 12), (4399, 11))"
      ]
     },
     "execution_count": 7,
     "metadata": {},
     "output_type": "execute_result"
    }
   ],
   "source": [
    "train.shape, test.shape"
   ]
  },
  {
   "cell_type": "code",
   "execution_count": 9,
   "id": "d1cb9dba",
   "metadata": {
    "scrolled": true
   },
   "outputs": [
    {
     "data": {
      "text/plain": [
       "datetime       object\n",
       "season          int64\n",
       "holiday         int64\n",
       "workingday      int64\n",
       "weather         int64\n",
       "temp          float64\n",
       "atemp         float64\n",
       "humidity      float64\n",
       "windspeed     float64\n",
       "casual          int64\n",
       "registered      int64\n",
       "count           int64\n",
       "dtype: object"
      ]
     },
     "execution_count": 9,
     "metadata": {},
     "output_type": "execute_result"
    }
   ],
   "source": [
    "train.dtypes"
   ]
  },
  {
   "cell_type": "code",
   "execution_count": 49,
   "id": "5f3e3302",
   "metadata": {},
   "outputs": [
    {
     "data": {
      "text/html": [
       "<div>\n",
       "<style scoped>\n",
       "    .dataframe tbody tr th:only-of-type {\n",
       "        vertical-align: middle;\n",
       "    }\n",
       "\n",
       "    .dataframe tbody tr th {\n",
       "        vertical-align: top;\n",
       "    }\n",
       "\n",
       "    .dataframe thead th {\n",
       "        text-align: right;\n",
       "    }\n",
       "</style>\n",
       "<table border=\"1\" class=\"dataframe\">\n",
       "  <thead>\n",
       "    <tr style=\"text-align: right;\">\n",
       "      <th></th>\n",
       "      <th>datetime</th>\n",
       "      <th>season</th>\n",
       "      <th>holiday</th>\n",
       "      <th>workingday</th>\n",
       "      <th>weather</th>\n",
       "      <th>temp</th>\n",
       "      <th>atemp</th>\n",
       "      <th>humidity</th>\n",
       "      <th>windspeed</th>\n",
       "      <th>casual</th>\n",
       "      <th>registered</th>\n",
       "      <th>count</th>\n",
       "      <th>date</th>\n",
       "    </tr>\n",
       "  </thead>\n",
       "  <tbody>\n",
       "    <tr>\n",
       "      <th>0</th>\n",
       "      <td>2011-01-01 00:00:00</td>\n",
       "      <td>1</td>\n",
       "      <td>0</td>\n",
       "      <td>0</td>\n",
       "      <td>1</td>\n",
       "      <td>9.84</td>\n",
       "      <td>14.395</td>\n",
       "      <td>81.0</td>\n",
       "      <td>0.0</td>\n",
       "      <td>3</td>\n",
       "      <td>13</td>\n",
       "      <td>16</td>\n",
       "      <td>2011-01-01</td>\n",
       "    </tr>\n",
       "    <tr>\n",
       "      <th>1</th>\n",
       "      <td>2011-01-01 01:00:00</td>\n",
       "      <td>1</td>\n",
       "      <td>0</td>\n",
       "      <td>0</td>\n",
       "      <td>1</td>\n",
       "      <td>9.02</td>\n",
       "      <td>13.635</td>\n",
       "      <td>80.0</td>\n",
       "      <td>0.0</td>\n",
       "      <td>8</td>\n",
       "      <td>32</td>\n",
       "      <td>40</td>\n",
       "      <td>2011-01-01</td>\n",
       "    </tr>\n",
       "    <tr>\n",
       "      <th>2</th>\n",
       "      <td>2011-01-01 02:00:00</td>\n",
       "      <td>1</td>\n",
       "      <td>0</td>\n",
       "      <td>0</td>\n",
       "      <td>1</td>\n",
       "      <td>9.02</td>\n",
       "      <td>13.635</td>\n",
       "      <td>80.0</td>\n",
       "      <td>0.0</td>\n",
       "      <td>5</td>\n",
       "      <td>27</td>\n",
       "      <td>32</td>\n",
       "      <td>2011-01-01</td>\n",
       "    </tr>\n",
       "    <tr>\n",
       "      <th>3</th>\n",
       "      <td>2011-01-01 03:00:00</td>\n",
       "      <td>1</td>\n",
       "      <td>0</td>\n",
       "      <td>0</td>\n",
       "      <td>1</td>\n",
       "      <td>9.84</td>\n",
       "      <td>14.395</td>\n",
       "      <td>75.0</td>\n",
       "      <td>0.0</td>\n",
       "      <td>3</td>\n",
       "      <td>10</td>\n",
       "      <td>13</td>\n",
       "      <td>2011-01-01</td>\n",
       "    </tr>\n",
       "    <tr>\n",
       "      <th>4</th>\n",
       "      <td>2011-01-01 04:00:00</td>\n",
       "      <td>1</td>\n",
       "      <td>0</td>\n",
       "      <td>0</td>\n",
       "      <td>1</td>\n",
       "      <td>9.84</td>\n",
       "      <td>14.395</td>\n",
       "      <td>75.0</td>\n",
       "      <td>0.0</td>\n",
       "      <td>0</td>\n",
       "      <td>1</td>\n",
       "      <td>1</td>\n",
       "      <td>2011-01-01</td>\n",
       "    </tr>\n",
       "  </tbody>\n",
       "</table>\n",
       "</div>"
      ],
      "text/plain": [
       "             datetime  season  holiday  workingday  weather  temp   atemp  \\\n",
       "0 2011-01-01 00:00:00       1        0           0        1  9.84  14.395   \n",
       "1 2011-01-01 01:00:00       1        0           0        1  9.02  13.635   \n",
       "2 2011-01-01 02:00:00       1        0           0        1  9.02  13.635   \n",
       "3 2011-01-01 03:00:00       1        0           0        1  9.84  14.395   \n",
       "4 2011-01-01 04:00:00       1        0           0        1  9.84  14.395   \n",
       "\n",
       "   humidity  windspeed  casual  registered  count        date  \n",
       "0      81.0        0.0       3          13     16  2011-01-01  \n",
       "1      80.0        0.0       8          32     40  2011-01-01  \n",
       "2      80.0        0.0       5          27     32  2011-01-01  \n",
       "3      75.0        0.0       3          10     13  2011-01-01  \n",
       "4      75.0        0.0       0           1      1  2011-01-01  "
      ]
     },
     "execution_count": 49,
     "metadata": {},
     "output_type": "execute_result"
    }
   ],
   "source": [
    "from datetime import datetime\n",
    "from datetime import date\n",
    "train['datetime'] = pd.to_datetime(train[\"datetime\"])\n",
    "train['date'] = dt.dt.date\n",
    "train.head()"
   ]
  },
  {
   "cell_type": "code",
   "execution_count": 51,
   "id": "fc5d9c58",
   "metadata": {},
   "outputs": [
    {
     "data": {
      "text/plain": [
       "datetime.date(2011, 1, 1)"
      ]
     },
     "execution_count": 51,
     "metadata": {},
     "output_type": "execute_result"
    }
   ],
   "source": [
    "firstdate = train['date'].iloc[0]\n",
    "firstdate"
   ]
  },
  {
   "cell_type": "code",
   "execution_count": null,
   "id": "90d9a95a",
   "metadata": {},
   "outputs": [],
   "source": []
  }
 ],
 "metadata": {
  "kernelspec": {
   "display_name": "Python 3 (ipykernel)",
   "language": "python",
   "name": "python3"
  },
  "language_info": {
   "codemirror_mode": {
    "name": "ipython",
    "version": 3
   },
   "file_extension": ".py",
   "mimetype": "text/x-python",
   "name": "python",
   "nbconvert_exporter": "python",
   "pygments_lexer": "ipython3",
   "version": "3.11.5"
  }
 },
 "nbformat": 4,
 "nbformat_minor": 5
}
